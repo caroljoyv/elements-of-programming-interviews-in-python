{
 "cells": [
  {
   "cell_type": "markdown",
   "id": "54d41ddc-f21c-4d3f-bd61-7e33d2c92b74",
   "metadata": {},
   "source": [
    "# Arrays"
   ]
  },
  {
   "cell_type": "markdown",
   "id": "cf0f545d-4afd-4d3e-aa36-dbce2bf9e703",
   "metadata": {},
   "source": [
    "+ Given an array A, A[i] denotes the (i + 1)th object stored in the\n",
    "array. Retrieving and updating A[i] takes O(1) time."
   ]
  },
  {
   "cell_type": "markdown",
   "id": "05fe1bc8-4b6d-46c9-980b-18de19d9038a",
   "metadata": {},
   "source": [
    "+ The time complexity to delete the element at index i from an array of length n is O(n − i)."
   ]
  },
  {
   "cell_type": "markdown",
   "id": "0dbb0574-dbc0-44ab-8739-2d0f92beb10e",
   "metadata": {},
   "source": [
    "# Reorder an array so that even entries appear first\n",
    "+ without using additional storage"
   ]
  },
  {
   "cell_type": "markdown",
   "id": "0ab03940-55b0-4104-a85b-37ab8484be8e",
   "metadata": {},
   "source": [
    "+ When working with arrays you should take advantage of the fact that you can operate efficiently\n",
    "on both ends.\n",
    "+ For this problem, we can partition the array into three subarrays: Even, Unclassified,\n",
    "and Odd, appearing in that order. Initially Even and Odd are empty, and Unclassified is the entire\n",
    "array. We iterate through Unclassified, moving its elements to the boundaries of the Even and Odd\n",
    "subarrays via swaps, thereby expanding Even and Odd, and shrinking Unclassified"
   ]
  },
  {
   "cell_type": "code",
   "execution_count": 3,
   "id": "17f03c4e-3df6-4153-a61f-6d12b90a45dd",
   "metadata": {},
   "outputs": [
    {
     "name": "stdout",
     "output_type": "stream",
     "text": [
      "[12, 4, 2, 7, 67, 5, 1]\n"
     ]
    }
   ],
   "source": [
    "def even_odd(A):\n",
    "    even, odd = 0, len(A)-1\n",
    "    while even < odd:\n",
    "        if A[even] % 2 == 0:\n",
    "            even += 1\n",
    "        else:\n",
    "            A[even], A[odd] = A[odd], A[even]  # swapping \n",
    "            odd -= 1\n",
    "    return A\n",
    "\n",
    "print(even_odd([1,4,2,7,12,67,5]))"
   ]
  },
  {
   "cell_type": "markdown",
   "id": "151a7f7c-2419-4ade-8d84-3983861c9060",
   "metadata": {},
   "source": [
    "## Points to note\n",
    "+ Filling an array from the front is slow, so see if it’s possible to write values from the back.\n",
    "+ Instead of deleting an entry (which requires moving all entries to its right), consider overwriting\n",
    "it.\n",
    "+ When dealing with integers encoded by an array consider processing the digits from the back\n",
    "of the array. Alternately, reverse the array so the least-significant digit is the first entry.\n",
    "+ It’s incredibly easy to make off-by-1 errors when operating on arrays—reading past the last\n",
    "element of an array is a common error which has catastrophic consequences.\n",
    "+ Don’t worry about preserving the integrity of the array (sortedness, keeping equal entries\n",
    "together, etc.) until it is time to return.\n",
    "+ When operating on 2D arrays, use parallel logic for rows and for columns."
   ]
  },
  {
   "cell_type": "code",
   "execution_count": 4,
   "id": "a68a0dbd-0237-47b6-bf6b-0f111340fce0",
   "metadata": {},
   "outputs": [
    {
     "data": {
      "text/plain": [
       "[0, 1, 2, 3, 4, 5, 6, 7, 8, 9]"
      ]
     },
     "execution_count": 4,
     "metadata": {},
     "output_type": "execute_result"
    }
   ],
   "source": [
    "list(range(10))"
   ]
  },
  {
   "cell_type": "markdown",
   "id": "307136e5-3947-477e-b9e8-64c2cae95237",
   "metadata": {},
   "source": [
    "## Basic operations are:\n",
    "+ len(A)\n",
    "+ A.append(x)\n",
    "+ A.remove(x)\n",
    "+ A.insert(x)"
   ]
  },
  {
   "cell_type": "code",
   "execution_count": 7,
   "id": "4197dc02-4636-425f-be6d-ddb572198c02",
   "metadata": {},
   "outputs": [
    {
     "data": {
      "text/plain": [
       "[2, 3, 4]"
      ]
     },
     "execution_count": 7,
     "metadata": {},
     "output_type": "execute_result"
    }
   ],
   "source": [
    "a= [2,3]\n",
    "a.insert(8,4)\n",
    "a"
   ]
  },
  {
   "cell_type": "code",
   "execution_count": null,
   "id": "6abe503a-924a-43f9-9422-e377a44357ec",
   "metadata": {},
   "outputs": [],
   "source": []
  },
  {
   "cell_type": "code",
   "execution_count": null,
   "id": "b163a34d-436f-4db6-9972-f5821ea67532",
   "metadata": {},
   "outputs": [],
   "source": []
  },
  {
   "cell_type": "code",
   "execution_count": null,
   "id": "61de40ac-1abc-407c-83bc-bf176e95dacb",
   "metadata": {},
   "outputs": [],
   "source": []
  },
  {
   "cell_type": "code",
   "execution_count": null,
   "id": "4be3e635-73f7-4dab-9546-b03a0ee22814",
   "metadata": {},
   "outputs": [],
   "source": []
  },
  {
   "cell_type": "code",
   "execution_count": null,
   "id": "3d78a0ea-a334-4bbc-8972-7684606696ca",
   "metadata": {},
   "outputs": [],
   "source": []
  },
  {
   "cell_type": "code",
   "execution_count": null,
   "id": "81a2fea8-dd82-4bb1-ab90-72900d255b4a",
   "metadata": {},
   "outputs": [],
   "source": []
  },
  {
   "cell_type": "code",
   "execution_count": null,
   "id": "2bd589bf-0bc3-45f0-b74f-23fd4fbf1cb1",
   "metadata": {},
   "outputs": [],
   "source": []
  },
  {
   "cell_type": "code",
   "execution_count": null,
   "id": "b92c6973-1f00-4635-af06-65b674aa977d",
   "metadata": {},
   "outputs": [],
   "source": []
  },
  {
   "cell_type": "code",
   "execution_count": null,
   "id": "be517b2d-1496-4f7a-94ae-b29906ef9d00",
   "metadata": {},
   "outputs": [],
   "source": []
  },
  {
   "cell_type": "code",
   "execution_count": null,
   "id": "19c0c543-4bdf-4fed-8c01-80f8bde8988c",
   "metadata": {},
   "outputs": [],
   "source": []
  },
  {
   "cell_type": "code",
   "execution_count": null,
   "id": "e7c68d6a-0d93-458a-aafb-a83946d59a95",
   "metadata": {},
   "outputs": [],
   "source": []
  },
  {
   "cell_type": "code",
   "execution_count": null,
   "id": "20f6163f-0fae-4a54-a7aa-8964d8e32704",
   "metadata": {},
   "outputs": [],
   "source": []
  }
 ],
 "metadata": {
  "kernelspec": {
   "display_name": "Python 3 (ipykernel)",
   "language": "python",
   "name": "python3"
  },
  "language_info": {
   "codemirror_mode": {
    "name": "ipython",
    "version": 3
   },
   "file_extension": ".py",
   "mimetype": "text/x-python",
   "name": "python",
   "nbconvert_exporter": "python",
   "pygments_lexer": "ipython3",
   "version": "3.10.6"
  }
 },
 "nbformat": 4,
 "nbformat_minor": 5
}
