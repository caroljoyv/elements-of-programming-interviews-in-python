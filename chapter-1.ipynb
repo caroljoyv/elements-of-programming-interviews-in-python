{
 "cells": [
  {
   "cell_type": "markdown",
   "id": "3655d665-dd35-4796-bcbb-2ee67b844ed8",
   "metadata": {},
   "source": [
    "# Counting the number of bits set to one in an integer\n",
    "Input: an integer\\\n",
    "Output: Number of bits set to one"
   ]
  },
  {
   "cell_type": "code",
   "execution_count": 4,
   "id": "5053dc3a-ce0e-4b34-a639-f7e7fe1d2bad",
   "metadata": {},
   "outputs": [
    {
     "name": "stdout",
     "output_type": "stream",
     "text": [
      "3\n"
     ]
    }
   ],
   "source": [
    "def count_bits(x):\n",
    "    num = 0\n",
    "    while(x):\n",
    "        num += x & 1\n",
    "        x >>= 1\n",
    "    return num\n",
    "\n",
    "print(count_bits(7))"
   ]
  },
  {
   "cell_type": "code",
   "execution_count": 3,
   "id": "714b74ea-8063-4ae9-9740-d4a39d62785b",
   "metadata": {},
   "outputs": [
    {
     "data": {
      "text/plain": [
       "9223372036854775807"
      ]
     },
     "execution_count": 3,
     "metadata": {},
     "output_type": "execute_result"
    }
   ],
   "source": [
    "import sys\n",
    "sys.maxsize"
   ]
  },
  {
   "cell_type": "markdown",
   "id": "1085ca99-d331-4cd2-bc02-0d704cb6a5ec",
   "metadata": {},
   "source": [
    "# Bitwise Operations"
   ]
  },
  {
   "cell_type": "markdown",
   "id": "e0f05d1b-1697-4da0-9426-1695024058f7",
   "metadata": {},
   "source": [
    "### Bitwise NOT"
   ]
  },
  {
   "cell_type": "markdown",
   "id": "d58dd31b-0f40-42bb-b896-cb66e4a3bafd",
   "metadata": {},
   "source": [
    "In Python, the **~** operator is the **bitwise NOT** operator. When you use it with an integer, it performs a bitwise NOT operation on its binary representation, flipping all the bits.\n",
    "\n",
    "For example, if you have the number 0, its binary representation is:\n",
    "\n",
    "0: 000\n",
    "\n",
    "Performing a bitwise NOT operation on this binary number:\n",
    "\n",
    "~~~\n",
    "~000\n",
    "-----\n",
    "  111\n",
    "~~~"
   ]
  },
  {
   "cell_type": "markdown",
   "id": "470aaf40-fbf3-4ecd-9e7b-63bee7e927db",
   "metadata": {},
   "source": [
    "### Bitwise AND"
   ]
  },
  {
   "cell_type": "markdown",
   "id": "e41bc3f7-dae1-4ae5-842c-22ef0bb5e7d3",
   "metadata": {},
   "source": [
    "**Bitwise AND** is a binary operation in Python, denoted by the & operator. When applied to two integers, it performs a bitwise comparison of their binary representations.\n",
    "\n",
    "When you perform the bitwise AND operation 2 & 5 in Python, it operates on the binary representations of the numbers 2 and 5:\n",
    "\n",
    "2: 010\n",
    "5: 101\n",
    "\n",
    "Performing a bitwise AND operation on these binary numbers:\n",
    "\n",
    "~~~\n",
    "  010\n",
    "& 101\n",
    "------\n",
    "  000\n",
    "~~~"
   ]
  },
  {
   "cell_type": "markdown",
   "id": "e3d65f98-4e02-4f2a-88b0-559c6fb918fd",
   "metadata": {},
   "source": [
    "### Bitwise OR"
   ]
  },
  {
   "cell_type": "markdown",
   "id": "fde0eace-c2b5-4262-82af-fa074e168ab8",
   "metadata": {},
   "source": [
    "**Bitwise OR** is a binary operation that can be used in programming languages like Python. It's denoted by the | operator. When applied to two integers, it performs a bitwise comparison of their binary representations. \n",
    "\n",
    "When you perform the bitwise OR operation 6 | 5 in Python, it operates on the binary representations of the numbers 6 and 5:\n",
    "\n",
    "6: 110 \\\n",
    "5: 101\n",
    "\n",
    "~~~\n",
    "  110\n",
    "| 101\n",
    "------\n",
    "  111\n",
    "~~~\n"
   ]
  },
  {
   "cell_type": "markdown",
   "id": "6c0c8ed3-cca2-4a61-b883-828ffeaca388",
   "metadata": {},
   "source": [
    "### Bitwise XOR\n",
    "\n",
    "**Bitwise XOR** (exclusive OR) is a binary operation. It's denoted by the ^ operator. When applied to two integers, it performs a bitwise comparison of their binary representations.\n",
    "\n",
    "Suppose you have the numbers 5 and 3:\n",
    "\n",
    "5: 101 \\\n",
    "3: 011\n",
    "\n",
    "Performing a bitwise XOR operation on these binary numbers:\n",
    "\n",
    "~~~\n",
    "  101\n",
    "^ 011\n",
    "------\n",
    "  110\n",
    "~~~"
   ]
  },
  {
   "cell_type": "markdown",
   "id": "653391aa-4dff-4887-9487-78b5b5381865",
   "metadata": {},
   "source": [
    "### Bitwise NOT"
   ]
  },
  {
   "cell_type": "markdown",
   "id": "cdd04ad6-a867-42ad-96d8-d3c4096f9f5a",
   "metadata": {},
   "source": [
    "In Python, the expression ~0 represents the **bitwise NOT** operation applied to the integer value 0. The bitwise NOT operation inverts all the bits of the binary representation of a number."
   ]
  },
  {
   "cell_type": "markdown",
   "id": "0e138d2d-0e1d-4049-8163-a242bbc9deb0",
   "metadata": {},
   "source": [
    "### Bitwise Shifting "
   ]
  },
  {
   "cell_type": "markdown",
   "id": "f0b5be70-375c-4045-abda-171c711ec77b",
   "metadata": {},
   "source": [
    "**Bitwise left shift and right shift** are operations used to manipulate the individual bits of an integer. They allow you to shift the bits to the left or right by a specified number of positions.\n",
    "\n",
    "1. Bitwise Left Shift (<<):\n",
    "The << operator performs a bitwise left shift on an integer. It moves the bits of the number to the left by the specified number of positions. This is equivalent to multiplying the number by 2 raised to the power of the shift amount.\n",
    "For example:\n",
    "~~~\n",
    "\n",
    "number = 5  # Binary: 101\n",
    "shifted = number << 2  # Shift left by 2 positions\n",
    "print(shifted)  # This will output: 20 (Binary: 10100)\n",
    "~~~\n",
    "\n",
    "2. Bitwise Right Shift (>>):\n",
    "The >> operator performs a bitwise right shift on an integer. It moves the bits of the number to the right by the specified number of positions. This is equivalent to dividing the number by 2 raised to the power of the shift amount and discarding the remainder.\n",
    "For example:\n",
    "~~~\n",
    "\n",
    "number = 20  # Binary: 10100\n",
    "shifted = number >> 2  # Shift right by 2 positions\n",
    "print(shifted)  # This will output: 5 (Binary: 101)\n",
    "~~~\n"
   ]
  },
  {
   "cell_type": "code",
   "execution_count": null,
   "id": "b37557e0-8abf-40d0-a857-494734ca2e32",
   "metadata": {},
   "outputs": [],
   "source": []
  }
 ],
 "metadata": {
  "kernelspec": {
   "display_name": "Python 3 (ipykernel)",
   "language": "python",
   "name": "python3"
  },
  "language_info": {
   "codemirror_mode": {
    "name": "ipython",
    "version": 3
   },
   "file_extension": ".py",
   "mimetype": "text/x-python",
   "name": "python",
   "nbconvert_exporter": "python",
   "pygments_lexer": "ipython3",
   "version": "3.10.6"
  }
 },
 "nbformat": 4,
 "nbformat_minor": 5
}
