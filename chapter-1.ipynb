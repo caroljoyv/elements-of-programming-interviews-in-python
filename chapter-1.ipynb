{
 "cells": [
  {
   "cell_type": "markdown",
   "id": "3655d665-dd35-4796-bcbb-2ee67b844ed8",
   "metadata": {},
   "source": [
    "### Counting the number of bits set to one in an integer\n",
    "Input: an integer\\\n",
    "Output: Number of bits set to one"
   ]
  },
  {
   "cell_type": "code",
   "execution_count": 4,
   "id": "5053dc3a-ce0e-4b34-a639-f7e7fe1d2bad",
   "metadata": {},
   "outputs": [
    {
     "name": "stdout",
     "output_type": "stream",
     "text": [
      "3\n"
     ]
    }
   ],
   "source": [
    "def count_bits(x):\n",
    "    num = 0\n",
    "    while(x):\n",
    "        num += x & 1\n",
    "        x >>= 1\n",
    "    return num\n",
    "\n",
    "print(count_bits(7))"
   ]
  },
  {
   "cell_type": "code",
   "execution_count": 3,
   "id": "714b74ea-8063-4ae9-9740-d4a39d62785b",
   "metadata": {},
   "outputs": [
    {
     "data": {
      "text/plain": [
       "9223372036854775807"
      ]
     },
     "execution_count": 3,
     "metadata": {},
     "output_type": "execute_result"
    }
   ],
   "source": [
    "import sys\n",
    "sys.maxsize"
   ]
  },
  {
   "cell_type": "code",
   "execution_count": null,
   "id": "a96a2b5f-c73d-4a27-8e42-fa887e6f89aa",
   "metadata": {},
   "outputs": [],
   "source": []
  }
 ],
 "metadata": {
  "kernelspec": {
   "display_name": "Python 3 (ipykernel)",
   "language": "python",
   "name": "python3"
  },
  "language_info": {
   "codemirror_mode": {
    "name": "ipython",
    "version": 3
   },
   "file_extension": ".py",
   "mimetype": "text/x-python",
   "name": "python",
   "nbconvert_exporter": "python",
   "pygments_lexer": "ipython3",
   "version": "3.10.6"
  }
 },
 "nbformat": 4,
 "nbformat_minor": 5
}
