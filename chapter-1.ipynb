{
 "cells": [
  {
   "cell_type": "markdown",
   "id": "3655d665-dd35-4796-bcbb-2ee67b844ed8",
   "metadata": {},
   "source": [
    "# Counting the number of bits set to one in an integer\n",
    "Input: an integer\\\n",
    "Output: Number of bits set to one"
   ]
  },
  {
   "cell_type": "code",
   "execution_count": 1,
   "id": "5053dc3a-ce0e-4b34-a639-f7e7fe1d2bad",
   "metadata": {},
   "outputs": [
    {
     "name": "stdout",
     "output_type": "stream",
     "text": [
      "3\n"
     ]
    }
   ],
   "source": [
    "def count_bits(x):\n",
    "    num = 0\n",
    "    while(x):\n",
    "        num += x & 1\n",
    "        x >>= 1\n",
    "    return num\n",
    "\n",
    "print(count_bits(7))"
   ]
  },
  {
   "cell_type": "code",
   "execution_count": 2,
   "id": "714b74ea-8063-4ae9-9740-d4a39d62785b",
   "metadata": {},
   "outputs": [
    {
     "data": {
      "text/plain": [
       "9223372036854775807"
      ]
     },
     "execution_count": 2,
     "metadata": {},
     "output_type": "execute_result"
    }
   ],
   "source": [
    "import sys\n",
    "sys.maxsize"
   ]
  },
  {
   "cell_type": "markdown",
   "id": "1085ca99-d331-4cd2-bc02-0d704cb6a5ec",
   "metadata": {},
   "source": [
    "# Bitwise Operations"
   ]
  },
  {
   "cell_type": "markdown",
   "id": "e0f05d1b-1697-4da0-9426-1695024058f7",
   "metadata": {},
   "source": [
    "### Bitwise NOT"
   ]
  },
  {
   "cell_type": "markdown",
   "id": "d58dd31b-0f40-42bb-b896-cb66e4a3bafd",
   "metadata": {},
   "source": [
    "In Python, the **~** operator is the **bitwise NOT** operator. When you use it with an integer, it performs a bitwise NOT operation on its binary representation, flipping all the bits.\n",
    "\n",
    "For example, if you have the number 0, its binary representation is:\n",
    "\n",
    "0: 000\n",
    "\n",
    "Performing a bitwise NOT operation on this binary number:\n",
    "\n",
    "~~~\n",
    "~000\n",
    "-----\n",
    "  111\n",
    "~~~"
   ]
  },
  {
   "cell_type": "markdown",
   "id": "470aaf40-fbf3-4ecd-9e7b-63bee7e927db",
   "metadata": {},
   "source": [
    "### Bitwise AND"
   ]
  },
  {
   "cell_type": "markdown",
   "id": "e41bc3f7-dae1-4ae5-842c-22ef0bb5e7d3",
   "metadata": {},
   "source": [
    "**Bitwise AND** is a binary operation in Python, denoted by the & operator. When applied to two integers, it performs a bitwise comparison of their binary representations.\n",
    "\n",
    "When you perform the bitwise AND operation 2 & 5 in Python, it operates on the binary representations of the numbers 2 and 5:\n",
    "\n",
    "2: 010\n",
    "5: 101\n",
    "\n",
    "Performing a bitwise AND operation on these binary numbers:\n",
    "\n",
    "~~~\n",
    "  010\n",
    "& 101\n",
    "------\n",
    "  000\n",
    "~~~"
   ]
  },
  {
   "cell_type": "markdown",
   "id": "e3d65f98-4e02-4f2a-88b0-559c6fb918fd",
   "metadata": {},
   "source": [
    "### Bitwise OR"
   ]
  },
  {
   "cell_type": "markdown",
   "id": "fde0eace-c2b5-4262-82af-fa074e168ab8",
   "metadata": {},
   "source": [
    "**Bitwise OR** is a binary operation that can be used in programming languages like Python. It's denoted by the | operator. When applied to two integers, it performs a bitwise comparison of their binary representations. \n",
    "\n",
    "When you perform the bitwise OR operation 6 | 5 in Python, it operates on the binary representations of the numbers 6 and 5:\n",
    "\n",
    "6: 110 \\\n",
    "5: 101\n",
    "\n",
    "~~~\n",
    "  110\n",
    "| 101\n",
    "------\n",
    "  111\n",
    "~~~\n"
   ]
  },
  {
   "cell_type": "markdown",
   "id": "6c0c8ed3-cca2-4a61-b883-828ffeaca388",
   "metadata": {},
   "source": [
    "### Bitwise XOR\n",
    "\n",
    "**Bitwise XOR** (exclusive OR) is a binary operation. It's denoted by the ^ operator. When applied to two integers, it performs a bitwise comparison of their binary representations.\n",
    "\n",
    "Suppose you have the numbers 5 and 3:\n",
    "\n",
    "5: 101 \\\n",
    "3: 011\n",
    "\n",
    "Performing a bitwise XOR operation on these binary numbers:\n",
    "\n",
    "~~~\n",
    "  101\n",
    "^ 011\n",
    "------\n",
    "  110\n",
    "~~~"
   ]
  },
  {
   "cell_type": "markdown",
   "id": "653391aa-4dff-4887-9487-78b5b5381865",
   "metadata": {},
   "source": [
    "### Bitwise NOT"
   ]
  },
  {
   "cell_type": "markdown",
   "id": "cdd04ad6-a867-42ad-96d8-d3c4096f9f5a",
   "metadata": {},
   "source": [
    "In Python, the expression ~0 represents the **bitwise NOT** operation applied to the integer value 0. The bitwise NOT operation inverts all the bits of the binary representation of a number."
   ]
  },
  {
   "cell_type": "markdown",
   "id": "0e138d2d-0e1d-4049-8163-a242bbc9deb0",
   "metadata": {},
   "source": [
    "### Bitwise Shifting "
   ]
  },
  {
   "cell_type": "markdown",
   "id": "f0b5be70-375c-4045-abda-171c711ec77b",
   "metadata": {},
   "source": [
    "**Bitwise left shift and right shift** are operations used to manipulate the individual bits of an integer. They allow you to shift the bits to the left or right by a specified number of positions.\n",
    "\n",
    "1. Bitwise Left Shift (<<):\n",
    "The << operator performs a bitwise left shift on an integer. It moves the bits of the number to the left by the specified number of positions. This is equivalent to multiplying the number by 2 raised to the power of the shift amount.\n",
    "For example:\n",
    "~~~\n",
    "\n",
    "number = 5  # Binary: 101\n",
    "shifted = number << 2  # Shift left by 2 positions\n",
    "print(shifted)  # This will output: 20 (Binary: 10100)\n",
    "~~~\n",
    "\n",
    "2. Bitwise Right Shift (>>):\n",
    "The >> operator performs a bitwise right shift on an integer. It moves the bits of the number to the right by the specified number of positions. This is equivalent to dividing the number by 2 raised to the power of the shift amount and discarding the remainder.\n",
    "For example:\n",
    "~~~\n",
    "\n",
    "number = 20  # Binary: 10100\n",
    "shifted = number >> 2  # Shift right by 2 positions\n",
    "print(shifted)  # This will output: 5 (Binary: 101)\n",
    "~~~\n"
   ]
  },
  {
   "cell_type": "markdown",
   "id": "b28e5b05-3454-4471-8f64-2e6460909c59",
   "metadata": {},
   "source": [
    "# Clearing the lowermost set bit"
   ]
  },
  {
   "cell_type": "markdown",
   "id": "5234c144-4454-437b-88eb-bfa45de29751",
   "metadata": {},
   "source": [
    "Use the **& bitwise AND operation** with its **two's complement negation (~x + 1)**. This operation clears the lowest set bit while leaving the other bits unchanged.\n",
    "\n",
    "For example, if x = 4 (binary = 100), then x & (x-1) will be 100 & 011, which will return 000.<br>\n",
    "Note that the lowermost bit is cleared, not the LSB\n",
    "\n"
   ]
  },
  {
   "cell_type": "code",
   "execution_count": 6,
   "id": "e0596c49-3a01-4dae-adbd-bcda57ecd964",
   "metadata": {},
   "outputs": [
    {
     "name": "stdout",
     "output_type": "stream",
     "text": [
      "0\n"
     ]
    }
   ],
   "source": [
    "x = 4\n",
    "x = x & (x - 1)\n",
    "print(x)"
   ]
  },
  {
   "cell_type": "markdown",
   "id": "32e2dc54-8c53-427b-bec2-ae3d26b6d2c4",
   "metadata": {},
   "source": [
    "# Setting the Lowermost 0 Bit"
   ]
  },
  {
   "cell_type": "markdown",
   "id": "e4945fb4-112e-476c-a9e9-923b60c905d5",
   "metadata": {},
   "source": [
    "To set the lowest 0 bit of an integer x, you can use the bitwise OR operation with its negation (~x). This operation sets the lowest 0 bit while leaving the other bits unchanged."
   ]
  },
  {
   "cell_type": "code",
   "execution_count": 7,
   "id": "53bb6542-a9d4-42da-81fd-96d09061e1a6",
   "metadata": {},
   "outputs": [
    {
     "name": "stdout",
     "output_type": "stream",
     "text": [
      "5\n"
     ]
    }
   ],
   "source": [
    "x = 4\n",
    "x = x | (x + 1)\n",
    "print(x)"
   ]
  },
  {
   "cell_type": "markdown",
   "id": "60b95449-6963-440b-86a4-472c6199bb9c",
   "metadata": {},
   "source": [
    "# Getting the Index of the Lowermost Set Bit"
   ]
  },
  {
   "cell_type": "markdown",
   "id": "6894a157-ce8b-41dc-9f4a-daa41e84175f",
   "metadata": {},
   "source": [
    "To get the index (position) of the lowest set bit (0-indexed) in an integer x, you can use the **bit_length()** method. This method returns the number of bits required to represent the integer, and subtracting 1 from it gives you the index of the lowest set bit.\n"
   ]
  },
  {
   "cell_type": "code",
   "execution_count": 9,
   "id": "ed7c99d7-a633-46df-8b44-ede0b3154ac2",
   "metadata": {},
   "outputs": [
    {
     "data": {
      "text/plain": [
       "3"
      ]
     },
     "execution_count": 9,
     "metadata": {},
     "output_type": "execute_result"
    }
   ],
   "source": [
    "x = 4\n",
    "x.bit_length()  #demonstrate bit_lenght() method"
   ]
  },
  {
   "cell_type": "code",
   "execution_count": 13,
   "id": "b4d56a9d-4496-4c3c-a65b-f89ed0c68a06",
   "metadata": {},
   "outputs": [
    {
     "data": {
      "text/plain": [
       "2"
      ]
     },
     "execution_count": 13,
     "metadata": {},
     "output_type": "execute_result"
    }
   ],
   "source": [
    "x = 4\n",
    "(x & -x).bit_length() - 1\n"
   ]
  },
  {
   "cell_type": "markdown",
   "id": "4b465110-99d8-4fdd-a527-1413fba06973",
   "metadata": {},
   "source": [
    "~~~\n",
    "(x & -x):\n",
    "~~~\n",
    "\n",
    "* This expression uses bitwise AND (&) with the two's complement negation of x (-x). It effectively isolates the lowest set bit of x. For example, if x is 12 (1100 in binary), then (x & -x) will be 4 (0100 in binary).\n",
    "~~~\n",
    ".bit_length():\n",
    "~~~\n",
    "* The .bit_length() method returns the number of bits required to represent the integer in binary. For example, 4.bit_length() returns 3 because it takes 3 bits to represent 4 in binary.\n",
    "~~~\n",
    "Subtracting 1:\n",
    "~~~\n",
    "* Since the index is 0-indexed (meaning the rightmost bit has index 0), we subtract 1 from the result of .bit_length() to get the index of the lowest set bit."
   ]
  },
  {
   "cell_type": "markdown",
   "id": "0fe6bf44-9ec5-4e22-b550-b6b7147ec506",
   "metadata": {},
   "source": [
    "### The key methods for numeric types are \n",
    "\n"
   ]
  },
  {
   "cell_type": "code",
   "execution_count": 14,
   "id": "d5583c5c-d35a-4a1b-8cd6-3fd22df91981",
   "metadata": {},
   "outputs": [
    {
     "data": {
      "text/plain": [
       "34.5"
      ]
     },
     "execution_count": 14,
     "metadata": {},
     "output_type": "execute_result"
    }
   ],
   "source": [
    "abs(-34.5)"
   ]
  },
  {
   "cell_type": "code",
   "execution_count": 16,
   "id": "c02fa61d-6b84-4520-b7d9-de6256348cc2",
   "metadata": {},
   "outputs": [
    {
     "data": {
      "text/plain": [
       "3"
      ]
     },
     "execution_count": 16,
     "metadata": {},
     "output_type": "execute_result"
    }
   ],
   "source": [
    "import math\n",
    "math.ceil(2.17)"
   ]
  },
  {
   "cell_type": "code",
   "execution_count": 17,
   "id": "826c6b0f-0dae-4d07-8a00-cb69c7423849",
   "metadata": {},
   "outputs": [
    {
     "data": {
      "text/plain": [
       "3"
      ]
     },
     "execution_count": 17,
     "metadata": {},
     "output_type": "execute_result"
    }
   ],
   "source": [
    "math.floor(3.14)"
   ]
  },
  {
   "cell_type": "code",
   "execution_count": 18,
   "id": "44735a8b-aa1c-463b-8a19-036d3168b07e",
   "metadata": {},
   "outputs": [
    {
     "data": {
      "text/plain": [
       "-4"
      ]
     },
     "execution_count": 18,
     "metadata": {},
     "output_type": "execute_result"
    }
   ],
   "source": [
    "min(x,-4)"
   ]
  },
  {
   "cell_type": "code",
   "execution_count": 20,
   "id": "0a703a9a-5945-45d3-9d12-25bb330e4358",
   "metadata": {},
   "outputs": [
    {
     "data": {
      "text/plain": [
       "7"
      ]
     },
     "execution_count": 20,
     "metadata": {},
     "output_type": "execute_result"
    }
   ],
   "source": [
    "max(3.14, 7)"
   ]
  },
  {
   "cell_type": "code",
   "execution_count": 22,
   "id": "3f2d3f8e-bb56-41dc-9e70-e517a3ab9e39",
   "metadata": {},
   "outputs": [
    {
     "data": {
      "text/plain": [
       "22.883559193263366"
      ]
     },
     "execution_count": 22,
     "metadata": {},
     "output_type": "execute_result"
    }
   ],
   "source": [
    "pow(2.71, 3.14) # or 2.71 ** 3.14"
   ]
  },
  {
   "cell_type": "code",
   "execution_count": 23,
   "id": "ff3182b4-0f19-4574-a09c-013ea7f04377",
   "metadata": {},
   "outputs": [
    {
     "data": {
      "text/plain": [
       "15.0"
      ]
     },
     "execution_count": 23,
     "metadata": {},
     "output_type": "execute_result"
    }
   ],
   "source": [
    "math.sqrt(225)"
   ]
  },
  {
   "cell_type": "markdown",
   "id": "1d27bdb9-d6b0-4bbb-a1cb-b34a2e634872",
   "metadata": {},
   "source": [
    "### Unlike integers, floats are not infinite precision\n",
    "So it’s convenient to refer to infinity as\n",
    "~~~\n",
    "float(’inf’) and float(’-inf’)\n",
    "~~~\n",
    " These values are comparable to integers, and can be used to create psuedo max-int and pseudo min-int."
   ]
  },
  {
   "cell_type": "markdown",
   "id": "fe536542-2fab-4897-a82f-300cd0b49241",
   "metadata": {},
   "source": [
    "### math.isclose()"
   ]
  },
  {
   "cell_type": "markdown",
   "id": "2a06e0e7-4289-44c7-9ab3-3a10d0c0cb6d",
   "metadata": {},
   "source": [
    "When comparing floating point values consider using **math.isclose()**—it is robust, e.g.when comparing very large values, and can handle both absolute and relative differences."
   ]
  },
  {
   "cell_type": "markdown",
   "id": "4076d844-aa9a-4805-8dc6-71946c0a5ad6",
   "metadata": {},
   "source": [
    "### Key methods in random are:"
   ]
  },
  {
   "cell_type": "code",
   "execution_count": 36,
   "id": "e2df4289-4165-4daa-8935-3b83ee402700",
   "metadata": {},
   "outputs": [
    {
     "name": "stdout",
     "output_type": "stream",
     "text": [
      "17\n",
      "14\n",
      "0.030380987692671724\n",
      "[66, 4, 2, 4, 1, 3, 12]\n",
      "12\n"
     ]
    }
   ],
   "source": [
    "import random\n",
    "print(random.randrange(28))\n",
    "print(random.randint(8,16))\n",
    "print(random.random())\n",
    "A = [1, 2, 4 ,3, 12, 4, 66]\n",
    "random.shuffle(A)\n",
    "print(A)\n",
    "print(random.choice(A))\n"
   ]
  },
  {
   "cell_type": "markdown",
   "id": "e853384f-0aa9-4977-8ba0-ed955a250e28",
   "metadata": {},
   "source": [
    "# Compting the parity of a word (Odd Parity)\n",
    "The parity of a binary word is 1 if the number of 1s in the word is odd; otherwise, it is 0. Forexample, the parity of 1011 is 1, and the parity of 10001000 is 0. Parity checks are used to detectsingle bit errors in data storage and communication. It is fairly straightforward to write code thatcomputes the parity of a single 64-bit word."
   ]
  },
  {
   "cell_type": "markdown",
   "id": "fb60826d-38e6-44e9-9ca3-1cd58636e113",
   "metadata": {},
   "source": [
    "## Solution 1: Brute Force Algorithm\n",
    "+ The brute-force algorithm iteratively tests the value of each bit while tracking the numberof 1s seen so far. Since we only care if the number of 1s is even or odd, we can store the number modulo 2.\n",
    " + The time complexity is O(n), where n is the word size.\n"
   ]
  },
  {
   "cell_type": "code",
   "execution_count": 38,
   "id": "cbb0ef31-12c7-4928-90f1-c34eff047df5",
   "metadata": {},
   "outputs": [
    {
     "name": "stdout",
     "output_type": "stream",
     "text": [
      "0\n"
     ]
    }
   ],
   "source": [
    "def parity(x):\n",
    "    result = 0\n",
    "    while x:\n",
    "        result ^= x & 1\n",
    "        x >>= 1\n",
    "    return result\n",
    "print(parity(6))"
   ]
  },
  {
   "cell_type": "markdown",
   "id": "43cd811f-6365-44a0-90c0-888192b15845",
   "metadata": {},
   "source": [
    "## Solution 2: Used for very large numbers\n",
    "+two keys to performance are **processing multiple bits at a time and caching results** in an array-based lookup table."
   ]
  },
  {
   "cell_type": "markdown",
   "id": "2d94d8c6-7117-4351-affc-9350a90dd15f",
   "metadata": {},
   "source": [
    "## Caching\n",
    "+ we cannot cache the parity of every 64-bit integer—we would need 264 bits of storage.\n",
    "+  However, when computing the parity of a collection of bits, it does not matter how we group those bits, i.e., the computation is associative.\n",
    "+  Therefore, we can compute the parity of a 64-bit integer by grouping its bits into four nonoverlapping 16 bit subwords, omputing the parity of each subwords, and then computing the parity of these four subresults\n",
    "\n",
    "\n",
    "+ The cache is h0, 1, 1, 0i—these are the parities of (00), (01), (10), (11), respectively.\n",
    "+ To compute the parity of (11001010) we would compute the parities of (11), (00), (10), (10). By table lookup we see these are 0, 0, 1, 1, respectively, so the final result is the parity of 0, 0, 1, 1 which is 0.\n",
    "+ To lookup the parity of the first two bits in (11101010), we right shift by 6, to get (00000011), and use this as an index into the cache. To lookup the parity of the next two bits, i.e., (10), we right shift by 4, to get (10) in the two least-significant bit places. The right shift does not remove the leading (11)—it results in (00001110). We cannot index the cache with this, it leads to an out-of-bounds access. To get the last two bits after the right shift by 4, we bitwise-AND (00001110) with (00000011)\n",
    "(this is the “mask” used to extract the last 2 bits). The result is (00000010). Similar masking is needed for the two other 2-bit lookups."
   ]
  },
  {
   "cell_type": "code",
   "execution_count": null,
   "id": "08960eef-4051-42fd-a5a4-24f33ff84ccf",
   "metadata": {},
   "outputs": [],
   "source": []
  }
 ],
 "metadata": {
  "kernelspec": {
   "display_name": "Python 3 (ipykernel)",
   "language": "python",
   "name": "python3"
  },
  "language_info": {
   "codemirror_mode": {
    "name": "ipython",
    "version": 3
   },
   "file_extension": ".py",
   "mimetype": "text/x-python",
   "name": "python",
   "nbconvert_exporter": "python",
   "pygments_lexer": "ipython3",
   "version": "3.10.6"
  }
 },
 "nbformat": 4,
 "nbformat_minor": 5
}
